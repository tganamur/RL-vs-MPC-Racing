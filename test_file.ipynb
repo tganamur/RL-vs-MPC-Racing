{
 "cells": [
  {
   "cell_type": "code",
   "execution_count": 2,
   "metadata": {},
   "outputs": [],
   "source": [
    "import numpy as np \n",
    "import pandas as pd"
   ]
  },
  {
   "cell_type": "code",
   "execution_count": 5,
   "metadata": {},
   "outputs": [
    {
     "name": "stdout",
     "output_type": "stream",
     "text": [
      "[ 0.0000000e+00 -8.2432560e-01  2.0199140e-01  4.7320201e+00\n",
      "  4.9800000e-05  8.0000000e+00  0.0000000e+00]\n",
      "7\n"
     ]
    }
   ],
   "source": [
    "mapno = ['IMS']\n",
    "randmap = mapno[0]\n",
    "\n",
    "\n",
    "raceline_csv = np.genfromtxt(f\"./f1tenth_racetracks/{randmap}/{randmap}_raceline.csv\", delimiter=';')\n",
    "\n",
    "df = pd.DataFrame(raceline_csv, columns=['s_m', 'x_m', 'y_m', 'psi_rad', 'kappa_rad', 'vx', 'ax'])\n",
    "df2 = df.drop(columns=['s_m', 'kappa_rad', 'vx', 'ax'])\n",
    "\n",
    "raceline = df2.to_numpy()\n",
    "\n",
    "\n",
    "\n",
    "    \n",
    "\n"
   ]
  }
 ],
 "metadata": {
  "kernelspec": {
   "display_name": "ME292b",
   "language": "python",
   "name": "python3"
  },
  "language_info": {
   "codemirror_mode": {
    "name": "ipython",
    "version": 3
   },
   "file_extension": ".py",
   "mimetype": "text/x-python",
   "name": "python",
   "nbconvert_exporter": "python",
   "pygments_lexer": "ipython3",
   "version": "3.8.19"
  }
 },
 "nbformat": 4,
 "nbformat_minor": 2
}
